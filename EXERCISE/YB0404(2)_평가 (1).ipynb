{
  "nbformat": 4,
  "nbformat_minor": 0,
  "metadata": {
    "colab": {
      "provenance": []
    },
    "kernelspec": {
      "name": "python3",
      "display_name": "Python 3"
    },
    "language_info": {
      "name": "python"
    }
  },
  "cells": [
    {
      "cell_type": "code",
      "metadata": {
        "id": "4Zqc4O_BfWqZ",
        "colab": {
          "base_uri": "https://localhost:8080/"
        },
        "outputId": "16053584-664e-4362-cc94-d7adfa08c276"
      },
      "source": [
        "# 모듈 및 데이터 로드\n",
        "from sklearn.datasets import load_breast_cancer\n",
        "from sklearn.linear_model import LogisticRegression\n",
        "\n",
        "data = load_breast_cancer()\n",
        "\n",
        "# x, y 데이터 생성\n",
        "X = data.data\n",
        "\n",
        "# 악성을 1, 양성을 0으로\n",
        "y = 1 - data.target\n",
        "\n",
        "# 특징으로 사용할 데이터를 평균으로 구분하는 10개 열로 축소\n",
        "X = X[:, :10]\n",
        "\n",
        "# 로지스틱 회귀 모델 생성\n",
        "model_lor = LogisticRegression(solver = 'lbfgs')\n",
        "model_lor.fit(X,y)\n",
        "y_pred = model_lor.predict(X)"
      ],
      "execution_count": 1,
      "outputs": [
        {
          "output_type": "stream",
          "name": "stderr",
          "text": [
            "/usr/local/lib/python3.11/dist-packages/sklearn/linear_model/_logistic.py:465: ConvergenceWarning: lbfgs failed to converge (status=1):\n",
            "STOP: TOTAL NO. of ITERATIONS REACHED LIMIT.\n",
            "\n",
            "Increase the number of iterations (max_iter) or scale the data as shown in:\n",
            "    https://scikit-learn.org/stable/modules/preprocessing.html\n",
            "Please also refer to the documentation for alternative solver options:\n",
            "    https://scikit-learn.org/stable/modules/linear_model.html#logistic-regression\n",
            "  n_iter_i = _check_optimize_result(\n"
          ]
        }
      ]
    },
    {
      "cell_type": "markdown",
      "metadata": {
        "id": "faoAfc1ZgAcq"
      },
      "source": [
        "* 오차 행렬(혼동 행렬) 생성"
      ]
    },
    {
      "cell_type": "code",
      "metadata": {
        "id": "JdML8YM0gBtu",
        "colab": {
          "base_uri": "https://localhost:8080/"
        },
        "outputId": "e031abc4-c2b8-455f-f08f-900c07111360"
      },
      "source": [
        "# 종속 변수와 예측 결과로 혼동 행렬 생성\n",
        "from sklearn.metrics import confusion_matrix\n",
        "conf_matrix = confusion_matrix(y, y_pred)\n",
        "\n",
        "print(conf_matrix)\n"
      ],
      "execution_count": 2,
      "outputs": [
        {
          "output_type": "stream",
          "name": "stdout",
          "text": [
            "[[337  20]\n",
            " [ 30 182]]\n"
          ]
        }
      ]
    },
    {
      "cell_type": "markdown",
      "metadata": {
        "id": "xbcK3rT-gFRk"
      },
      "source": [
        "* 정확도"
      ]
    },
    {
      "cell_type": "code",
      "metadata": {
        "id": "NLiXFuYvgI1e",
        "colab": {
          "base_uri": "https://localhost:8080/"
        },
        "outputId": "651d1936-aece-4f57-8bed-17848db7b343"
      },
      "source": [
        "from sklearn.metrics import accuracy_score\n",
        "accuracy = accuracy_score(y,y_pred)\n",
        "accuracy"
      ],
      "execution_count": 4,
      "outputs": [
        {
          "output_type": "execute_result",
          "data": {
            "text/plain": [
              "0.9121265377855887"
            ]
          },
          "metadata": {},
          "execution_count": 4
        }
      ]
    },
    {
      "cell_type": "markdown",
      "metadata": {
        "id": "UYnVZS9igNNf"
      },
      "source": [
        "* 정밀도"
      ]
    },
    {
      "cell_type": "code",
      "metadata": {
        "id": "j108NueLgMKF",
        "colab": {
          "base_uri": "https://localhost:8080/"
        },
        "outputId": "298347bc-0e70-4ace-ddb3-3acbf170136a"
      },
      "source": [
        "from sklearn.metrics import precision_score\n",
        "precision = precision_score(y,y_pred)\n",
        "precision"
      ],
      "execution_count": 5,
      "outputs": [
        {
          "output_type": "execute_result",
          "data": {
            "text/plain": [
              "0.900990099009901"
            ]
          },
          "metadata": {},
          "execution_count": 5
        }
      ]
    },
    {
      "cell_type": "markdown",
      "metadata": {
        "id": "2-MBquNJZOM4"
      },
      "source": [
        "* 재현율"
      ]
    },
    {
      "cell_type": "code",
      "metadata": {
        "id": "uje4ivPvZPwv",
        "colab": {
          "base_uri": "https://localhost:8080/"
        },
        "outputId": "dc94a980-6c85-4af9-a5c9-5b992048a99f"
      },
      "source": [
        "from sklearn.metrics import recall_score\n",
        "recall = recall_score(y,y_pred)\n",
        "recall"
      ],
      "execution_count": 6,
      "outputs": [
        {
          "output_type": "execute_result",
          "data": {
            "text/plain": [
              "0.8584905660377359"
            ]
          },
          "metadata": {},
          "execution_count": 6
        }
      ]
    },
    {
      "cell_type": "markdown",
      "metadata": {
        "id": "Cw1p3yjagUCH"
      },
      "source": [
        "* F1 score"
      ]
    },
    {
      "cell_type": "code",
      "metadata": {
        "id": "hPdtYdoDgYgV",
        "colab": {
          "base_uri": "https://localhost:8080/"
        },
        "outputId": "89d0bd6a-0ecc-43d0-9bf3-a87fcea6e623"
      },
      "source": [
        "from sklearn.metrics import f1_score\n",
        "f1 = f1_score(y,y_pred)\n",
        "f1"
      ],
      "execution_count": 7,
      "outputs": [
        {
          "output_type": "execute_result",
          "data": {
            "text/plain": [
              "0.8792270531400966"
            ]
          },
          "metadata": {},
          "execution_count": 7
        }
      ]
    },
    {
      "cell_type": "markdown",
      "metadata": {
        "id": "fzwIFsKOW5a1"
      },
      "source": [
        "* 예측 확률(pred_proba) : 0으로 예측할 확률이 0.1보다 크면 y_pred2 에 넣는다 가정."
      ]
    },
    {
      "cell_type": "code",
      "metadata": {
        "id": "nw9dxOiPW40l"
      },
      "source": [
        "from sklearn.preprocessing import Binarizer\n",
        "\n",
        "threshold = 0.1\n",
        "binarizer = Binarizer(threshold=threshold)\n",
        "\n",
        "pred_proba = model_lor.predict_proba(X)\n",
        "y_pred_proba = pred_proba[:, 0].reshape(-1, 1)\n",
        "y_pred2 = binarizer.transform(y_pred_proba)\n",
        "\n",
        "\n"
      ],
      "execution_count": 18,
      "outputs": []
    },
    {
      "cell_type": "code",
      "metadata": {
        "id": "Y-WrHrICYFB1",
        "colab": {
          "base_uri": "https://localhost:8080/"
        },
        "outputId": "9f0b4448-06e1-4688-fbdd-67aa51f3ebaf"
      },
      "source": [
        "# y과 y_pred2의 혼동행렬, 정확도, 정밀도, 재현율, f1 score 구하기\n",
        "conf_matrix = confusion_matrix(y, y_pred2)\n",
        "accuracy = accuracy_score(y,y_pred2)\n",
        "precision = precision_score(y,y_pred2)\n",
        "recall = recall_score(y,y_pred2)\n",
        "f1 = f1_score(y,y_pred2)\n",
        "\n",
        "print(conf_matrix, accuracy, precision, recall, f1)"
      ],
      "execution_count": 19,
      "outputs": [
        {
          "output_type": "stream",
          "name": "stdout",
          "text": [
            "[[  1 356]\n",
            " [139  73]] 0.13005272407732865 0.17016317016317017 0.3443396226415094 0.22776911076443057\n"
          ]
        }
      ]
    },
    {
      "cell_type": "markdown",
      "metadata": {
        "id": "itgf_OjsjU-R"
      },
      "source": [
        "* ROC 곡선 시각화"
      ]
    },
    {
      "cell_type": "code",
      "metadata": {
        "id": "DW75xBokjXKy",
        "colab": {
          "base_uri": "https://localhost:8080/",
          "height": 564
        },
        "outputId": "065709d3-7816-450f-ccf3-7748cdd68c08"
      },
      "source": [
        "from sklearn.metrics import roc_curve, auc\n",
        "import matplotlib.pyplot as plt\n",
        "\n",
        "\n",
        "y_pred_proba = model_lor.predict_proba(X)[:, 1]\n",
        "\n",
        "fpr, tpr, _ = roc_curve(y, y_pred_proba)\n",
        "roc_auc = auc(fpr, tpr)  # AUC 계산\n",
        "\n",
        "# ROC 곡선 그리기\n",
        "plt.figure(figsize=(8, 6))\n",
        "plt.plot(fpr, tpr, color='blue', lw=2, label=f'ROC curve (AUC = {roc_auc:.2f})')\n",
        "plt.plot([0, 1], [0, 1], color='gray', linestyle='-')\n",
        "plt.xlabel('False Positive Rate (FPR)')\n",
        "plt.ylabel('True Positive Rate (TPR)')\n",
        "plt.title('Receiver Operating Characteristic (ROC) Curve')\n",
        "plt.legend(loc='lower right')\n",
        "plt.grid()\n",
        "plt.show()\n"
      ],
      "execution_count": 20,
      "outputs": [
        {
          "output_type": "display_data",
          "data": {
            "text/plain": [
              "<Figure size 800x600 with 1 Axes>"
            ],
            "image/png": "[encoded data removed]"
          },
          "metadata": {}
        }
      ]
    },
    {
      "cell_type": "markdown",
      "metadata": {
        "id": "fL4as0YsWYD7"
      },
      "source": [
        "* ROC AUC 값"
      ]
    },
    {
      "cell_type": "code",
      "metadata": {
        "id": "-SEElVZTWaVp",
        "colab": {
          "base_uri": "https://localhost:8080/"
        },
        "outputId": "f89c794a-19ad-4fb6-d2ad-f540c513a32c"
      },
      "source": [
        "from sklearn.metrics import roc_auc_score\n",
        "\n",
        "y_pred_proba = model_lor.predict_proba(X)[:, 1]\n",
        "\n",
        "# ROC AUC 점수 계산\n",
        "roc_auc = roc_auc_score(y, y_pred_proba)\n",
        "print(f\"ROC AUC Score: {roc_auc:.4f}\")\n"
      ],
      "execution_count": 21,
      "outputs": [
        {
          "output_type": "stream",
          "name": "stdout",
          "text": [
            "ROC AUC Score: 0.9741\n"
          ]
        }
      ]
    }
  ]
}